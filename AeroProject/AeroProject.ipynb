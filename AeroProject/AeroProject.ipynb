{
 "cells": [
  {
   "cell_type": "markdown",
   "metadata": {},
   "source": [
    "# Aero neural net super computer project of doom"
   ]
  },
  {
   "cell_type": "markdown",
   "metadata": {},
   "source": [
    "1. Implement flowsquare 2 and demonstrate parameter sweeping ability\n",
    "2. Increase compute\n",
    "3. Implement in 3d\n",
    "4. Neural networks via tensorflow keras or general gradient descent"
   ]
  },
  {
   "cell_type": "code",
   "execution_count": 1,
   "metadata": {},
   "outputs": [],
   "source": [
    "from PIL import Image"
   ]
  },
  {
   "cell_type": "code",
   "execution_count": 8,
   "metadata": {},
   "outputs": [],
   "source": [
    "# A script to create bitmaps in python of the car\n",
    "\n",
    "#get a vector and save it on a canvas varying it's position\n",
    "\n",
    "filename = \"car_empty.jpg\"\n",
    "with Image.open(filename) as img:\n",
    "    img.load()\n",
    "    img.show()\n",
    "    \n",
    "    img_w, img_h = img.size\n",
    "\n",
    "    with Image.open(\"Background.jpg\") as background:\n",
    "        #background = Image.new('RGBA', (8000, 2000), (255, 255, 255, 255))\n",
    "        bg_w, bg_h = background.size\n",
    "        offset = ((bg_w - img_w) // 2, (bg_h - img_h) // 2)##sticks in in the middle\n",
    "        background.paste(img, offset)\n",
    "        background.show()\n",
    "        background.save('out.png')\n",
    "\n",
    "\n",
    "    \n"
   ]
  },
  {
   "cell_type": "code",
   "execution_count": null,
   "metadata": {
    "vscode": {
     "languageId": "shellscript"
    }
   },
   "outputs": [],
   "source": []
  }
 ],
 "metadata": {
  "kernelspec": {
   "display_name": "Python 3.8.2 ('racing')",
   "language": "python",
   "name": "python3"
  },
  "language_info": {
   "codemirror_mode": {
    "name": "ipython",
    "version": 3
   },
   "file_extension": ".py",
   "mimetype": "text/x-python",
   "name": "python",
   "nbconvert_exporter": "python",
   "pygments_lexer": "ipython3",
   "version": "3.8.2"
  },
  "orig_nbformat": 4,
  "vscode": {
   "interpreter": {
    "hash": "6e2c7705a372fb48ee35bedea81da7e08d5fc8de5aa6998ea250d083ecbcf54b"
   }
  }
 },
 "nbformat": 4,
 "nbformat_minor": 2
}
