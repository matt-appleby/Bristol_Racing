{
 "cells": [
  {
   "cell_type": "markdown",
   "metadata": {},
   "source": [
    "## Code to read gps data\n"
   ]
  },
  {
   "cell_type": "code",
   "execution_count": null,
   "metadata": {},
   "outputs": [],
   "source": [
    "\n",
    "import numpy as np\n",
    "import matplotlib.pyplot as plt\n",
    "from matplotlib import _pylab_helpers\n",
    "from tkinter import filedialog\n",
    "import pandas as pd\n",
    "import serial\n",
    "import time"
   ]
  },
  {
   "cell_type": "code",
   "execution_count": null,
   "metadata": {},
   "outputs": [],
   "source": [
    "# logs the data from arduino\n",
    "serialcomm = serial.Serial(\"COM7\", 9600, timeout=None)\n",
    "String2=\"\"\n",
    "while True:\n",
    "    String1 =  serialcomm.readline().decode('ascii')\n",
    "    if String1 != String2:\n",
    "        ListedString = list(String1.split(\" \"))\n",
    "        if len(ListedString)>2:\n",
    "            ListedString[2]=(ListedString[2])[:-3]#I think this gets rid of a weird first data point\n",
    "        lat = ListedString[2];\n",
    "        lon = ListedString[3];\n",
    "        lat, lon = np.deg2rad(lat), np.deg2rad(lon);\n",
    "        R = 6371 # radius of the earth\n",
    "        x = R * np.cos(lat) * np.cos(lon);\n",
    "        y = R * np.cos(lat) * np.sin(lon);\n",
    "        #z = R *np.sin(lat)\n",
    "        \n",
    "        ListedString[5]=x\n",
    "        ListedString[6]=y\n",
    "\n",
    "\n",
    "        \n",
    "        print(ListedString)\n",
    "        TimeInstanceData = pd.DataFrame(ListedString)\n",
    "        TimeInstanceData = TimeInstanceData.transpose()\n",
    "        data = pd.concat([data, pd.DataFrame.from_records(TimeInstanceData)])\n",
    "    #time.sleep(0.5)\n",
    "    String2=String1"
   ]
  },
  {
   "cell_type": "code",
   "execution_count": null,
   "metadata": {},
   "outputs": [],
   "source": [
    "speed=0\n",
    "for counter in len(data)-1:\n",
    "    index=counter+1\n",
    "\n",
    "    x1=data.iloc(5,counter)\n",
    "    x2=data.iloc(5,counter+1)\n",
    "\n",
    "    y1=data.iloc(6,counter)\n",
    "    y2=data.iloc(6,counter+1)\n",
    "\n",
    "    \n",
    "    t1=data.iloc(1,counter)\n",
    "    t2=data.iloc(1,counter+1)\n",
    "\n",
    "\n",
    "    distance=((x1-x2)^2+(y1-y2)^2)^0.5\n",
    "    speed=distance/(t2-t1)\n",
    "    acc=(speed-speed_old)/(t2-t1)\n",
    "\n",
    "    data[index,7]=distance\n",
    "    data[index,8]=speed\n",
    "    data[index,9]=acc\n",
    "    \n",
    "    speed_old=speed\n",
    "\n",
    "plot(time, distance)\n",
    "plt.show()\n",
    "\n",
    "\n",
    "plot(time, speed)\n",
    "plt.show()\n",
    "\n",
    "plot(time, acc)\n",
    "plt.show()"
   ]
  },
  {
   "cell_type": "code",
   "execution_count": null,
   "metadata": {},
   "outputs": [],
   "source": [
    "#Drag=1/2 * density * C_d*A\n",
    "M=CarMassKg+DriverMassKg\n",
    "A=(0.5*density*C_dA*V^2+RollingResistance*g*M)/M"
   ]
  },
  {
   "cell_type": "code",
   "execution_count": null,
   "metadata": {},
   "outputs": [],
   "source": [
    "Name=input(\"Name\")\n",
    "data.to_csv(Name+'.csv')"
   ]
  },
  {
   "cell_type": "markdown",
   "metadata": {},
   "source": []
  }
 ],
 "metadata": {
  "kernelspec": {
   "display_name": "Python 3.8.2 ('racing')",
   "language": "python",
   "name": "python3"
  },
  "language_info": {
   "name": "python",
   "version": "3.8.2"
  },
  "orig_nbformat": 4,
  "vscode": {
   "interpreter": {
    "hash": "6e2c7705a372fb48ee35bedea81da7e08d5fc8de5aa6998ea250d083ecbcf54b"
   }
  }
 },
 "nbformat": 4,
 "nbformat_minor": 2
}
