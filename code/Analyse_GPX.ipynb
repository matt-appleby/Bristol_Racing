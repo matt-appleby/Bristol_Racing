{
 "cells": [
  {
   "cell_type": "markdown",
   "metadata": {},
   "source": [
    "## Process GPX data\n"
   ]
  },
  {
   "cell_type": "code",
   "execution_count": 80,
   "metadata": {},
   "outputs": [],
   "source": [
    "import pandas as pd\n",
    "import numpy as np\n",
    "import matplotlib.pyplot as plt"
   ]
  },
  {
   "cell_type": "code",
   "execution_count": 144,
   "metadata": {},
   "outputs": [],
   "source": [
    "file_name='Roll_Test_5.gpx'\n",
    "with open(file_name) as f:\n",
    "    lines = f.readlines()\n",
    "lines=lines[17:-3]\n",
    "#lines\n"
   ]
  },
  {
   "cell_type": "code",
   "execution_count": 145,
   "metadata": {},
   "outputs": [
    {
     "name": "stdout",
     "output_type": "stream",
     "text": [
      "45\n",
      "39\n"
     ]
    },
    {
     "name": "stderr",
     "output_type": "stream",
     "text": [
      "C:\\Users\\matth\\AppData\\Local\\Temp\\ipykernel_20544\\4197087315.py:47: RuntimeWarning: invalid value encountered in double_scalars\n",
      "  speed=distance/delta_t#meters per secound\n"
     ]
    },
    {
     "data": {
      "text/plain": [
       "<AxesSubplot:xlabel='Time [s]', ylabel='Accelaration [ms^-2]'>"
      ]
     },
     "execution_count": 145,
     "metadata": {},
     "output_type": "execute_result"
    },
    {
     "data": {
      "image/png": "[encoded data removed]",
      "text/plain": [
       "<Figure size 432x288 with 1 Axes>"
      ]
     },
     "metadata": {
      "needs_background": "light"
     },
     "output_type": "display_data"
    },
    {
     "data": {
      "image/png": "[encoded data removed]",
      "text/plain": [
       "<Figure size 432x288 with 1 Axes>"
      ]
     },
     "metadata": {
      "needs_background": "light"
     },
     "output_type": "display_data"
    }
   ],
   "source": [
    "df = pd.DataFrame(columns=['time','speed'])\n",
    "\n",
    "init_minutes=int(str(lines[0])[79:81])\n",
    "init_secounds=int(str(lines[0])[82:84])\n",
    "\n",
    "lat=float(str(lines[0])[13:24])\n",
    "lon=float(str(lines[0])[31:42])\n",
    "ele=float(str(lines[0])[49:53])\n",
    "\n",
    "lat, lon = np.deg2rad(lat), np.deg2rad(lon);\n",
    "\n",
    "R = 6371 # radius of the earth\n",
    "x1 = R * np.cos(lat) * np.cos(lon);\n",
    "y1 = R * np.cos(lat) * np.sin(lon);\n",
    "\n",
    "t1=0\n",
    "v1=0\n",
    "\n",
    "for index in range(len(lines)):\n",
    "#for index in range(5):\n",
    "    lat=float(str(lines[index])[13:24])\n",
    "    lon=float(str(lines[index])[31:42])\n",
    "    ele=float(str(lines[index])[49:53])\n",
    "\n",
    "    lat, lon = np.deg2rad(lat), np.deg2rad(lon);\n",
    "\n",
    "    x_abs = R * np.cos(lat) * np.cos(lon);\n",
    "    y_abs = R * np.cos(lat) * np.sin(lon);\n",
    "\n",
    "    x_rel=x_abs-x1\n",
    "    y_rel=y_abs-y1\n",
    "    distance=((x_rel**2+y_rel**2)**0.5)*1000# pythag\n",
    "    x1=x_abs\n",
    "    y1=y_abs\n",
    "\n",
    "    min_time=int(str(lines[index])[79:81])-init_minutes\n",
    "    sec_time=int(str(lines[index])[82:84])-init_secounds\n",
    "    time=sec_time+min_time*60\n",
    "    delta_t=time-t1\n",
    "    t1=time\n",
    "\n",
    "    speed=distance/delta_t#meters per secound\n",
    "    acc=(speed-v1)/delta_t\n",
    "    v1=speed\n",
    "    speed=speed*60**2/1000#convert to kph\n",
    "\n",
    "    df_working = pd.DataFrame([[time,speed,acc,x_rel,y_rel]],columns=['time','speed','acc','x_rel','y_rel'])\n",
    "    df=pd.concat([df,df_working])\n",
    "\n",
    "df[\"roll_mean_speed\"]=df.rolling(window=3)['speed'].mean()\n",
    "\n",
    "df.plot(kind='scatter',marker='x',x='time',y='speed',xlabel=\"Time [s]\",ylabel=\"Speed [kph]\",xlim=[0,100], c=\"k\")\n",
    "df.plot(kind='scatter',marker='x', x='time', y='acc', xlabel='Time [s]', ylabel='Accelaration [ms^-2]', xlim=[0,100], c='k')"
   ]
  }
 ],
 "metadata": {
  "kernelspec": {
   "display_name": "Python 3.8.2 ('racing')",
   "language": "python",
   "name": "python3"
  },
  "language_info": {
   "codemirror_mode": {
    "name": "ipython",
    "version": 3
   },
   "file_extension": ".py",
   "mimetype": "text/x-python",
   "name": "python",
   "nbconvert_exporter": "python",
   "pygments_lexer": "ipython3",
   "version": "3.8.2"
  },
  "orig_nbformat": 4,
  "vscode": {
   "interpreter": {
    "hash": "6e2c7705a372fb48ee35bedea81da7e08d5fc8de5aa6998ea250d083ecbcf54b"
   }
  }
 },
 "nbformat": 4,
 "nbformat_minor": 2
}
